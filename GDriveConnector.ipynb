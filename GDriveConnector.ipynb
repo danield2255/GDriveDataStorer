{
 "cells": [
  {
   "cell_type": "markdown",
   "metadata": {},
   "source": [
    "## Link to a Google Drive where data will be held"
   ]
  },
  {
   "cell_type": "code",
   "execution_count": null,
   "metadata": {},
   "outputs": [],
   "source": [
    "from pydrive.auth import GoogleAuth\n",
    "from pydrive.drive import GoogleDrive\n",
    "from oauth2client.client import GoogleCredentials"
   ]
  },
  {
   "cell_type": "code",
   "execution_count": null,
   "metadata": {},
   "outputs": [],
   "source": [
    "gauth = GoogleAuth()\n",
    "gauth.LocalWebserverAuth()\n",
    "\n",
    "drive = GoogleDrive(gauth)\n"
   ]
  },
  {
   "cell_type": "code",
   "execution_count": null,
   "metadata": {},
   "outputs": [],
   "source": [
    "folder = \"SpotifyScrapedData\"\n",
    "folder_present = False\n",
    "file_list = drive.ListFile({'q': \"'root' in parents and trashed=false\"}).GetList()\n",
    "for file1 in file_list:\n",
    "    if file1['title'] == folder:\n",
    "        folder_present = True\n",
    "        id = file1['id']\n",
    "        \n",
    "if not folder_present:\n",
    "    file1 = drive.CreateFile({'title': folder, \n",
    "    \"mimeType\": \"application/vnd.google-apps.folder\"})\n",
    "    file1.Upload()\n",
    "    id = file1['id']\n",
    "    \n",
    "    \n",
    "folder_file_list = drive.ListFile({'q': \"'{0}' in parents and trashed=false\".format(id)}).GetList()\n",
    "for file1 in folder_file_list:\n",
    "  print('title: %s, id: %s' % (file1['title'], file1['id']))\n",
    "title = \"mySpotifyListening.csv\"\n",
    "file_present = False\n",
    "for file2 in folder_file_list:\n",
    "    if file2[\"title\"] == title:\n",
    "        file_present = True\n",
    "        id = file1['id']\n",
    "\n",
    "if not file_present: \n",
    "    file1 = drive.CreateFile({'title': title, \n",
    "                              \"parents\": [{\"id\": id}], \n",
    "    \"mimeType\": \"csv\"})\n",
    "    file1.Upload()"
   ]
  }
 ],
 "metadata": {
  "kernelspec": {
   "display_name": "Python 3",
   "language": "python",
   "name": "python3"
  },
  "language_info": {
   "codemirror_mode": {
    "name": "ipython",
    "version": 3
   },
   "file_extension": ".py",
   "mimetype": "text/x-python",
   "name": "python",
   "nbconvert_exporter": "python",
   "pygments_lexer": "ipython3",
   "version": "3.7.4"
  }
 },
 "nbformat": 4,
 "nbformat_minor": 4
}
